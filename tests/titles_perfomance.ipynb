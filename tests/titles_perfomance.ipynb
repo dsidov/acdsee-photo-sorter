{
 "cells": [
  {
   "cell_type": "markdown",
   "metadata": {},
   "source": [
    "get_titles vs get_active_title perfomance difference\n",
    "1. Start DEFAULT_TITLE\n",
    "2. Select {DEFAULT_EXTENSION} image\n",
    "3. Start script & Make ACDSee window active in 5 seconds"
   ]
  },
  {
   "cell_type": "code",
   "execution_count": 1,
   "metadata": {},
   "outputs": [
    {
     "name": "stdout",
     "output_type": "stream",
     "text": [
      "Titles total: 14\n",
      "get_titles speed: 396 µs ± 1.92 µs per loop (mean ± std. dev. of 7 runs, 1000 loops each)\n",
      "get_active_title speed: 9.6 µs ± 28.9 ns per loop (mean ± std. dev. of 7 runs, 100000 loops each)\n"
     ]
    }
   ],
   "source": [
    "import win32gui\n",
    "import time\n",
    "import sys \n",
    "sys.path.append('..')\n",
    "import acdsee_sorter\n",
    "\n",
    "DEFAULT_EXTENSION = '.jpg'\n",
    "DEFAULT_TITLE = 'ACDSee'\n",
    "\n",
    "def EnumHandler(hwnd, titles): \n",
    "    if win32gui.IsWindowVisible(hwnd):\n",
    "        title = win32gui.GetWindowText(hwnd)\n",
    "        titles.append(title)\n",
    "\n",
    "time.sleep(5)\n",
    "\n",
    "titles_total = list()    \n",
    "win32gui.EnumWindows(EnumHandler, titles_total)\n",
    "\n",
    "timelist_ts = list()\n",
    "timelist_t = list()\n",
    "\n",
    "print(f'Titles total: {len(titles_total)}')\n",
    "print('get_titles speed:', end=' ')\n",
    "%timeit acdsee_sorter.get_titles(DEFAULT_TITLE, DEFAULT_EXTENSION)\n",
    "print('get_active_title speed:', end=' ')\n",
    "%timeit acdsee_sorter.get_active_title(DEFAULT_TITLE, DEFAULT_EXTENSION)"
   ]
  }
 ],
 "metadata": {
  "interpreter": {
   "hash": "5f3104d7129d76525f7b54724ecbeac3244740a7115449bb486926611051b661"
  },
  "kernelspec": {
   "display_name": "Python 3.8.12 64-bit ('base': conda)",
   "language": "python",
   "name": "python3"
  },
  "language_info": {
   "codemirror_mode": {
    "name": "ipython",
    "version": 3
   },
   "file_extension": ".py",
   "mimetype": "text/x-python",
   "name": "python",
   "nbconvert_exporter": "python",
   "pygments_lexer": "ipython3",
   "version": "3.8.12"
  },
  "orig_nbformat": 4
 },
 "nbformat": 4,
 "nbformat_minor": 2
}
